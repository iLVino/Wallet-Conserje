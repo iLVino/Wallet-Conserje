{
 "cells": [
  {
   "cell_type": "code",
   "execution_count": 149,
   "id": "84e2ace6-06c2-4b7e-84bd-951185df1a9c",
   "metadata": {},
   "outputs": [
    {
     "data": {
      "text/plain": [
       "{'status': {'timestamp': '2023-05-13T13:52:03.092Z',\n",
       "  'error_code': 0,\n",
       "  'error_message': None,\n",
       "  'elapsed': 9,\n",
       "  'credit_count': 1,\n",
       "  'notice': None},\n",
       " 'data': {'24478': {'id': 24478,\n",
       "   'name': 'Pepe',\n",
       "   'symbol': 'PEPE',\n",
       "   'category': 'token',\n",
       "   'description': 'Pepe (PEPE) is a cryptocurrency and operates on the Ethereum platform. Pepe has a current supply of 420,690,000,000,000 with 391,790,000,000,000 in circulation. The last known price of Pepe is 0.00000188 USD and is up 48.58 over the last 24 hours. It is currently trading on 101 active market(s) with $1,174,336,004.77 traded over the last 24 hours. More information can be found at https://www.pepe.vip/.',\n",
       "   'slug': 'pepe',\n",
       "   'logo': 'https://s2.coinmarketcap.com/static/img/coins/64x64/24478.png',\n",
       "   'subreddit': '',\n",
       "   'notice': '',\n",
       "   'tags': ['memes'],\n",
       "   'tag-names': ['Memes'],\n",
       "   'tag-groups': ['INDUSTRY'],\n",
       "   'urls': {'website': ['https://www.pepe.vip/'],\n",
       "    'twitter': ['https://twitter.com/pepecoineth'],\n",
       "    'message_board': [],\n",
       "    'chat': ['https://t.me/pepecoineth'],\n",
       "    'facebook': [],\n",
       "    'explorer': ['https://etherscan.io/token/0x6982508145454ce325ddbe47a25d4ec3d2311933'],\n",
       "    'reddit': [],\n",
       "    'technical_doc': [],\n",
       "    'source_code': [],\n",
       "    'announcement': []},\n",
       "   'platform': {'id': '1027',\n",
       "    'name': 'Ethereum',\n",
       "    'slug': 'ethereum',\n",
       "    'symbol': 'ETH',\n",
       "    'token_address': '0x6982508145454ce325ddbe47a25d4ec3d2311933'},\n",
       "   'date_added': '2023-04-17T06:18:08.000Z',\n",
       "   'twitter_username': 'pepecoineth',\n",
       "   'is_hidden': 0,\n",
       "   'date_launched': None,\n",
       "   'contract_address': [{'contract_address': '0x6982508145454ce325ddbe47a25d4ec3d2311933',\n",
       "     'platform': {'name': 'Ethereum',\n",
       "      'coin': {'id': '1027',\n",
       "       'name': 'Ethereum',\n",
       "       'symbol': 'ETH',\n",
       "       'slug': 'ethereum'}}}],\n",
       "   'self_reported_circulating_supply': 420690000000000,\n",
       "   'self_reported_tags': None,\n",
       "   'self_reported_market_cap': 795110064.3160323,\n",
       "   'infinite_supply': False}}}"
      ]
     },
     "execution_count": 149,
     "metadata": {},
     "output_type": "execute_result"
    }
   ],
   "source": [
    "from requests import Request, Session\n",
    "from requests.exceptions import ConnectionError, Timeout, TooManyRedirects\n",
    "import json\n",
    "\n",
    "url = 'https://pro-api.coinmarketcap.com/v1/cryptocurrency/info'\n",
    "parameters = {\n",
    "  'address':'0x6982508145454ce325ddbe47a25d4ec3d2311933',\n",
    "}\n",
    "headers = {\n",
    "  'Accepts': 'application/json',\n",
    "  'X-CMC_PRO_API_KEY': '69f27c26-55db-4ffe-aa08-a6de6f056a46',\n",
    "}\n",
    "\n",
    "session = Session()\n",
    "session.headers.update(headers)\n",
    "\n",
    "\n",
    "response = session.get(url, params=parameters)\n",
    "data = json.loads(response.text)\n",
    "data"
   ]
  },
  {
   "cell_type": "code",
   "execution_count": 148,
   "id": "6bfabc57-3a44-4f02-8199-61e4fcdf69cd",
   "metadata": {},
   "outputs": [],
   "source": [
    "import requests\n",
    "\n",
    "url = \"https://api.gopluslabs.io/api/v1/supported_chains?name=token_security\"\n",
    "session = Session()\n",
    "response = session.get(url).json()"
   ]
  },
  {
   "cell_type": "code",
   "execution_count": 143,
   "id": "598faf9d-7dc0-44d9-83bd-190612d823df",
   "metadata": {},
   "outputs": [],
   "source": [
    "import requests\n",
    "\n",
    "url = \"https://api.gopluslabs.io/api/v1/token_security/1?contract_addresses=\" + \"0x6982508145454ce325ddbe47a25d4ec3d2311933\"\n",
    "session = Session()\n",
    "response1 = session.get(url).json()"
   ]
  },
  {
   "cell_type": "code",
   "execution_count": 144,
   "id": "6040d4d7-ada4-4e5b-b766-ce0bdd6f5d14",
   "metadata": {},
   "outputs": [
    {
     "data": {
      "text/plain": [
       "'0xe7edc72d915b636ae1096cdadbc148b327471ade'"
      ]
     },
     "execution_count": 144,
     "metadata": {},
     "output_type": "execute_result"
    }
   ],
   "source": [
    "creator = response['result']['0x6982508145454ce325ddbe47a25d4ec3d2311933']['creator_address']\n",
    "creator"
   ]
  },
  {
   "cell_type": "code",
   "execution_count": 147,
   "id": "328e7b3b-c70e-450b-84ea-bb71c42f7668",
   "metadata": {},
   "outputs": [],
   "source": [
    "url = \"https://api.gopluslabs.io/api/v1/address_security/\" + creator + \"?chain_id=1\"\n",
    "session = Session()\n",
    "response2 = session.get(url).json()"
   ]
  }
 ],
 "metadata": {
  "kernelspec": {
   "display_name": "Python 3 (ipykernel)",
   "language": "python",
   "name": "python3"
  },
  "language_info": {
   "codemirror_mode": {
    "name": "ipython",
    "version": 3
   },
   "file_extension": ".py",
   "mimetype": "text/x-python",
   "name": "python",
   "nbconvert_exporter": "python",
   "pygments_lexer": "ipython3",
   "version": "3.10.11"
  }
 },
 "nbformat": 4,
 "nbformat_minor": 5
}
